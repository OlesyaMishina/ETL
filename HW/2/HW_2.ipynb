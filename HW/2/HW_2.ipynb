{
 "cells": [
  {
   "cell_type": "markdown",
   "id": "1fcc9f16",
   "metadata": {},
   "source": [
    "## HW 2. \n",
    "Введение в подготовку данных для аналитиков. Таблицы фактов и таблицы измерений.\n",
    "\n",
    "***Задание 1.***  Скачайте датасет fifаs2.сsv. Проанализируйте его и определите, какие данные являются неполными. Удалите\n",
    "ненужные колонки и недостающие значения.\n"
   ]
  },
  {
   "cell_type": "code",
   "execution_count": 297,
   "id": "dfd19593",
   "metadata": {},
   "outputs": [
    {
     "name": "stdout",
     "output_type": "stream",
     "text": [
      "<class 'pandas.core.frame.DataFrame'>\n",
      "RangeIndex: 2399 entries, 0 to 2398\n",
      "Data columns (total 18 columns):\n",
      " #   Column                    Non-Null Count  Dtype  \n",
      "---  ------                    --------------  -----  \n",
      " 0   ID                        2399 non-null   int64  \n",
      " 1   Name                      2399 non-null   object \n",
      " 2   Age                       2399 non-null   int64  \n",
      " 3   Nationality               2392 non-null   object \n",
      " 4   Overall                   2399 non-null   int64  \n",
      " 5   Potential                 2399 non-null   int64  \n",
      " 6   Club                      2158 non-null   object \n",
      " 7   Value                     2142 non-null   float64\n",
      " 8   Wage                      2399 non-null   int64  \n",
      " 9   Preferred Foot            2399 non-null   object \n",
      " 10  International Reputation  2389 non-null   float64\n",
      " 11  Skill Moves               2393 non-null   float64\n",
      " 12  Position                  2378 non-null   object \n",
      " 13  Joined                    2399 non-null   int64  \n",
      " 14  Contract Valid Until      2126 non-null   object \n",
      " 15  Height                    2399 non-null   float64\n",
      " 16  Weight                    2399 non-null   float64\n",
      " 17  Release Clause            2396 non-null   float64\n",
      "dtypes: float64(6), int64(6), object(6)\n",
      "memory usage: 337.5+ KB\n"
     ]
    }
   ],
   "source": [
    "import pandas as pd\n",
    "import matplotlib.pyplot as plt\n",
    "import seaborn as sns\n",
    "df=pd.read_csv(r'C:\\GB\\DataEngineer\\ETL\\HW\\2\\fifa_s2.csv')\n",
    "df.info()"
   ]
  },
  {
   "cell_type": "code",
   "execution_count": 298,
   "id": "acfb767f",
   "metadata": {},
   "outputs": [
    {
     "data": {
      "text/html": [
       "<div>\n",
       "<style scoped>\n",
       "    .dataframe tbody tr th:only-of-type {\n",
       "        vertical-align: middle;\n",
       "    }\n",
       "\n",
       "    .dataframe tbody tr th {\n",
       "        vertical-align: top;\n",
       "    }\n",
       "\n",
       "    .dataframe thead th {\n",
       "        text-align: right;\n",
       "    }\n",
       "</style>\n",
       "<table border=\"1\" class=\"dataframe\">\n",
       "  <thead>\n",
       "    <tr style=\"text-align: right;\">\n",
       "      <th></th>\n",
       "      <th>ID</th>\n",
       "      <th>Name</th>\n",
       "      <th>Age</th>\n",
       "      <th>Nationality</th>\n",
       "      <th>Overall</th>\n",
       "      <th>Potential</th>\n",
       "      <th>Club</th>\n",
       "      <th>Value</th>\n",
       "      <th>Wage</th>\n",
       "      <th>Preferred Foot</th>\n",
       "      <th>International Reputation</th>\n",
       "      <th>Skill Moves</th>\n",
       "      <th>Position</th>\n",
       "      <th>Joined</th>\n",
       "      <th>Contract Valid Until</th>\n",
       "      <th>Height</th>\n",
       "      <th>Weight</th>\n",
       "      <th>Release Clause</th>\n",
       "    </tr>\n",
       "  </thead>\n",
       "  <tbody>\n",
       "    <tr>\n",
       "      <th>0</th>\n",
       "      <td>1179</td>\n",
       "      <td>G. Buffon</td>\n",
       "      <td>40</td>\n",
       "      <td>Italy</td>\n",
       "      <td>88</td>\n",
       "      <td>88</td>\n",
       "      <td>Paris Saint-Germain</td>\n",
       "      <td>4000.0</td>\n",
       "      <td>77</td>\n",
       "      <td>Right</td>\n",
       "      <td>4.0</td>\n",
       "      <td>1.0</td>\n",
       "      <td>GK</td>\n",
       "      <td>2018</td>\n",
       "      <td>01/01/2019</td>\n",
       "      <td>6.333333</td>\n",
       "      <td>203.0</td>\n",
       "      <td>7400.0</td>\n",
       "    </tr>\n",
       "    <tr>\n",
       "      <th>1</th>\n",
       "      <td>5479</td>\n",
       "      <td>Casillas</td>\n",
       "      <td>37</td>\n",
       "      <td>Spain</td>\n",
       "      <td>82</td>\n",
       "      <td>82</td>\n",
       "      <td>FC Porto</td>\n",
       "      <td>1500.0</td>\n",
       "      <td>10</td>\n",
       "      <td>Left</td>\n",
       "      <td>4.0</td>\n",
       "      <td>1.0</td>\n",
       "      <td>NaN</td>\n",
       "      <td>2015</td>\n",
       "      <td>01/01/2019</td>\n",
       "      <td>6.083333</td>\n",
       "      <td>185.0</td>\n",
       "      <td>3000.0</td>\n",
       "    </tr>\n",
       "    <tr>\n",
       "      <th>2</th>\n",
       "      <td>8205</td>\n",
       "      <td>Braga</td>\n",
       "      <td>35</td>\n",
       "      <td>Portugal</td>\n",
       "      <td>70</td>\n",
       "      <td>70</td>\n",
       "      <td>CD Aves</td>\n",
       "      <td>750.0</td>\n",
       "      <td>5</td>\n",
       "      <td>Right</td>\n",
       "      <td>1.0</td>\n",
       "      <td>3.0</td>\n",
       "      <td>LCM</td>\n",
       "      <td>2017</td>\n",
       "      <td>01/01/2019</td>\n",
       "      <td>5.916667</td>\n",
       "      <td>165.0</td>\n",
       "      <td>1600.0</td>\n",
       "    </tr>\n",
       "    <tr>\n",
       "      <th>3</th>\n",
       "      <td>9014</td>\n",
       "      <td>A. Robben</td>\n",
       "      <td>34</td>\n",
       "      <td>Netherlands</td>\n",
       "      <td>84</td>\n",
       "      <td>84</td>\n",
       "      <td>FC Bayern München</td>\n",
       "      <td>15500.0</td>\n",
       "      <td>110</td>\n",
       "      <td>Left</td>\n",
       "      <td>4.0</td>\n",
       "      <td>4.0</td>\n",
       "      <td>RM</td>\n",
       "      <td>2009</td>\n",
       "      <td>01/01/2019</td>\n",
       "      <td>5.916667</td>\n",
       "      <td>176.0</td>\n",
       "      <td>25600.0</td>\n",
       "    </tr>\n",
       "    <tr>\n",
       "      <th>4</th>\n",
       "      <td>19521</td>\n",
       "      <td>J. Ibehre</td>\n",
       "      <td>35</td>\n",
       "      <td>England</td>\n",
       "      <td>61</td>\n",
       "      <td>61</td>\n",
       "      <td>Cambridge United</td>\n",
       "      <td>120.0</td>\n",
       "      <td>2</td>\n",
       "      <td>Right</td>\n",
       "      <td>1.0</td>\n",
       "      <td>2.0</td>\n",
       "      <td>ST</td>\n",
       "      <td>2017</td>\n",
       "      <td>01/01/2019</td>\n",
       "      <td>6.333333</td>\n",
       "      <td>203.0</td>\n",
       "      <td>210.0</td>\n",
       "    </tr>\n",
       "  </tbody>\n",
       "</table>\n",
       "</div>"
      ],
      "text/plain": [
       "      ID       Name  Age  Nationality  Overall  Potential  \\\n",
       "0   1179  G. Buffon   40        Italy       88         88   \n",
       "1   5479   Casillas   37        Spain       82         82   \n",
       "2   8205      Braga   35     Portugal       70         70   \n",
       "3   9014  A. Robben   34  Netherlands       84         84   \n",
       "4  19521  J. Ibehre   35      England       61         61   \n",
       "\n",
       "                  Club    Value  Wage Preferred Foot  \\\n",
       "0  Paris Saint-Germain   4000.0    77          Right   \n",
       "1             FC Porto   1500.0    10           Left   \n",
       "2              CD Aves    750.0     5          Right   \n",
       "3    FC Bayern München  15500.0   110           Left   \n",
       "4     Cambridge United    120.0     2          Right   \n",
       "\n",
       "   International Reputation  Skill Moves Position  Joined  \\\n",
       "0                       4.0          1.0       GK    2018   \n",
       "1                       4.0          1.0      NaN    2015   \n",
       "2                       1.0          3.0      LCM    2017   \n",
       "3                       4.0          4.0       RM    2009   \n",
       "4                       1.0          2.0       ST    2017   \n",
       "\n",
       "  Contract Valid Until    Height  Weight  Release Clause  \n",
       "0           01/01/2019  6.333333   203.0          7400.0  \n",
       "1           01/01/2019  6.083333   185.0          3000.0  \n",
       "2           01/01/2019  5.916667   165.0          1600.0  \n",
       "3           01/01/2019  5.916667   176.0         25600.0  \n",
       "4           01/01/2019  6.333333   203.0           210.0  "
      ]
     },
     "execution_count": 298,
     "metadata": {},
     "output_type": "execute_result"
    }
   ],
   "source": [
    "df.head()"
   ]
  },
  {
   "cell_type": "code",
   "execution_count": 299,
   "id": "ecd3e52b",
   "metadata": {},
   "outputs": [
    {
     "data": {
      "text/plain": [
       "ID                           0.000000\n",
       "Name                         0.000000\n",
       "Age                          0.000000\n",
       "Nationality                  0.291788\n",
       "Overall                      0.000000\n",
       "Potential                    0.000000\n",
       "Club                        10.045852\n",
       "Value                       10.712797\n",
       "Wage                         0.000000\n",
       "Preferred Foot               0.000000\n",
       "International Reputation     0.416840\n",
       "Skill Moves                  0.250104\n",
       "Position                     0.875365\n",
       "Joined                       0.000000\n",
       "Contract Valid Until        11.379742\n",
       "Height                       0.000000\n",
       "Weight                       0.000000\n",
       "Release Clause               0.125052\n",
       "dtype: float64"
      ]
     },
     "execution_count": 299,
     "metadata": {},
     "output_type": "execute_result"
    }
   ],
   "source": [
    "#посмотрим процент пропущенных данных по столбцам и тепловую карту пропусков\n",
    "df.isna().sum()/len(df)*100"
   ]
  },
  {
   "cell_type": "code",
   "execution_count": 300,
   "id": "de6207c7",
   "metadata": {},
   "outputs": [
    {
     "data": {
      "text/plain": [
       "<Axes: >"
      ]
     },
     "execution_count": 300,
     "metadata": {},
     "output_type": "execute_result"
    },
    {
     "data": {
      "image/png": "[encoded data removed]",
      "text/plain": [
       "<Figure size 640x480 with 2 Axes>"
      ]
     },
     "metadata": {},
     "output_type": "display_data"
    }
   ],
   "source": [
    "colors = ['#000999', '#ffff00']\n",
    "sns.heatmap(df[df.columns].isnull(), cmap=sns.color_palette(colors))"
   ]
  },
  {
   "cell_type": "markdown",
   "id": "6d0b525d",
   "metadata": {},
   "source": [
    "Видим что пропусков немного, удалять столбцы изза большого количества пропусков не будем. Так же из тепловой карты видим, что строк с большим количеством пропусков нет, их тоже удалять не будем. Еще видим, что пропуски Club и Value имеют место для одинаковых игроков. В чем причина - предположить не могу (не разбираюсь в футболе). В колонке Club заполнить пропуски можем только статусом неизвестно, а вот в колонке  Value уберем пропуски. Предположим, что Value коррелирует с категориальным атрибутом International Reputation. Проверим это."
   ]
  },
  {
   "cell_type": "code",
   "execution_count": 301,
   "id": "08994589",
   "metadata": {},
   "outputs": [
    {
     "data": {
      "text/plain": [
       "International Reputation\n",
       "1.0     2063.523610\n",
       "2.0    12202.000000\n",
       "3.0    26863.829787\n",
       "4.0    42565.116279\n",
       "5.0    84800.000000\n",
       "Name: Value, dtype: float64"
      ]
     },
     "execution_count": 301,
     "metadata": {},
     "output_type": "execute_result"
    }
   ],
   "source": [
    "df.groupby('International Reputation')[ 'Value'].mean()"
   ]
  },
  {
   "cell_type": "code",
   "execution_count": 302,
   "id": "d8a79a92",
   "metadata": {},
   "outputs": [
    {
     "data": {
      "text/plain": [
       "Series([], dtype: int64)"
      ]
     },
     "execution_count": 302,
     "metadata": {},
     "output_type": "execute_result"
    }
   ],
   "source": [
    "df[(df['International Reputation'].isna())&(df['Value'].isna())].value_counts()"
   ]
  },
  {
   "cell_type": "markdown",
   "id": "87444a2f",
   "metadata": {},
   "source": [
    "как можно увидеть, International Reputation имеет всего 5 категорий, и чем выше International Reputation, тем выше Value. Строк, в котором пропущены одновременно International Reputation и Value нет, сооветвенно заменим пропуски в Value медианой этого значения в каждой категории International Reputation. Остальные пропуски заменим на indefined. Поменяем тип данных у International Reputation на категориальный."
   ]
  },
  {
   "cell_type": "code",
   "execution_count": 303,
   "id": "c5cd6143",
   "metadata": {},
   "outputs": [
    {
     "name": "stderr",
     "output_type": "stream",
     "text": [
      "C:\\Users\\Olesya\\AppData\\Local\\Temp\\ipykernel_1712\\3837429199.py:2: SettingWithCopyWarning: \n",
      "A value is trying to be set on a copy of a slice from a DataFrame.\n",
      "Try using .loc[row_indexer,col_indexer] = value instead\n",
      "\n",
      "See the caveats in the documentation: https://pandas.pydata.org/pandas-docs/stable/user_guide/indexing.html#returning-a-view-versus-a-copy\n",
      "  df[df['International Reputation']==i].Value = df.Value.fillna(df[df['International Reputation']==i].Value.median(), inplace=True)\n"
     ]
    }
   ],
   "source": [
    "for i in df['International Reputation'].unique():\n",
    "    df[df['International Reputation']==i].Value = df.Value.fillna(df[df['International Reputation']==i].Value.median(), inplace=True)"
   ]
  },
  {
   "cell_type": "code",
   "execution_count": 304,
   "id": "176240ff",
   "metadata": {},
   "outputs": [],
   "source": [
    "for col in df.columns:\n",
    "    if df[col].dtype=='object':\n",
    "        df[col] = df[col].fillna('indefined')\n",
    "\n",
    "df['International Reputation']=df['International Reputation'].astype('category')"
   ]
  },
  {
   "cell_type": "code",
   "execution_count": 305,
   "id": "7c346517",
   "metadata": {},
   "outputs": [
    {
     "name": "stdout",
     "output_type": "stream",
     "text": [
      "<class 'pandas.core.frame.DataFrame'>\n",
      "RangeIndex: 2399 entries, 0 to 2398\n",
      "Data columns (total 18 columns):\n",
      " #   Column                    Non-Null Count  Dtype   \n",
      "---  ------                    --------------  -----   \n",
      " 0   ID                        2399 non-null   int64   \n",
      " 1   Name                      2399 non-null   object  \n",
      " 2   Age                       2399 non-null   int64   \n",
      " 3   Nationality               2399 non-null   object  \n",
      " 4   Overall                   2399 non-null   int64   \n",
      " 5   Potential                 2399 non-null   int64   \n",
      " 6   Club                      2399 non-null   object  \n",
      " 7   Value                     2399 non-null   float64 \n",
      " 8   Wage                      2399 non-null   int64   \n",
      " 9   Preferred Foot            2399 non-null   object  \n",
      " 10  International Reputation  2389 non-null   category\n",
      " 11  Skill Moves               2393 non-null   float64 \n",
      " 12  Position                  2399 non-null   object  \n",
      " 13  Joined                    2399 non-null   int64   \n",
      " 14  Contract Valid Until      2399 non-null   object  \n",
      " 15  Height                    2399 non-null   float64 \n",
      " 16  Weight                    2399 non-null   float64 \n",
      " 17  Release Clause            2396 non-null   float64 \n",
      "dtypes: category(1), float64(5), int64(6), object(6)\n",
      "memory usage: 321.3+ KB\n"
     ]
    }
   ],
   "source": [
    "df.info()"
   ]
  },
  {
   "cell_type": "markdown",
   "id": "6474c153",
   "metadata": {},
   "source": [
    "Какие колонки можно удалить не представляю. Все данные достаточно полные, дублирований нет. Колонки Overall и Potential очень близки, но полностью друг друга не повторяют. "
   ]
  },
  {
   "cell_type": "code",
   "execution_count": 306,
   "id": "54479f70",
   "metadata": {},
   "outputs": [
    {
     "data": {
      "text/plain": [
       "0.34305960817007086"
      ]
     },
     "execution_count": 306,
     "metadata": {},
     "output_type": "execute_result"
    }
   ],
   "source": [
    "df[df.Overall==df.Potential].shape[0]/len(df)"
   ]
  },
  {
   "cell_type": "markdown",
   "id": "30c159c7",
   "metadata": {},
   "source": [
    "Видим, что повторы всего в 34%, убирать какую то из этих двух колонок не вижу необходимости. "
   ]
  },
  {
   "cell_type": "markdown",
   "id": "247a2a4e",
   "metadata": {},
   "source": [
    "Посмотрим выбросы по колонкам Value и Wage. По боксплоту видим, что распределение имеет большой хвост справа. Значения Value и Wage у нас сильно зависят от категории International Reputation. Посмотрим межквартильние расстояние и максимально значимое значение для максимальной 5 категории."
   ]
  },
  {
   "cell_type": "code",
   "execution_count": 307,
   "id": "22bde441",
   "metadata": {},
   "outputs": [
    {
     "data": {
      "text/plain": [
       "<Axes: >"
      ]
     },
     "execution_count": 307,
     "metadata": {},
     "output_type": "execute_result"
    },
    {
     "data": {
      "image/png": "[encoded data removed]",
      "text/plain": [
       "<Figure size 1500x400 with 2 Axes>"
      ]
     },
     "metadata": {},
     "output_type": "display_data"
    }
   ],
   "source": [
    "fig, (ax_boxplot, bx_boxplot) = plt.subplots(1, 2, figsize=(15,4))\n",
    "df.boxplot(column=['Value'], ax=ax_boxplot)\n",
    "df.boxplot(column=['Wage'])"
   ]
  },
  {
   "cell_type": "code",
   "execution_count": 308,
   "id": "4908ac95",
   "metadata": {},
   "outputs": [
    {
     "name": "stdout",
     "output_type": "stream",
     "text": [
      "Межквартильное расстояние Value для 5 категории International Reputation равно 33500.0.\n",
      "Максимально значимая величина Value для 5 категории International Reputation равно 160750.0.\n",
      "Межквартильное расстояние Wage для 5 категории International Reputation равно 165.0.\n",
      "Максимально значимая величина Wage для 5 категории International Reputation равно 702.5.\n"
     ]
    }
   ],
   "source": [
    "IQR=df[df['International Reputation']==5].Value.quantile(0.75)-df[df['International Reputation']==5].Value.quantile(0.25)\n",
    "print(f'Межквартильное расстояние Value для 5 категории International Reputation равно {IQR}.')\n",
    "MAX=df[df['International Reputation']==5].Value.quantile(0.75)+1.5*IQR\n",
    "print(f'Максимально значимая величина Value для 5 категории International Reputation равно {MAX}.')\n",
    "IQR=df[df['International Reputation']==5].Wage.quantile(0.75)-df[df['International Reputation']==5].Wage.quantile(0.25)\n",
    "print(f'Межквартильное расстояние Wage для 5 категории International Reputation равно {IQR}.')\n",
    "MAX=df[df['International Reputation']==5].Wage.quantile(0.75)+1.5*IQR\n",
    "print(f'Максимально значимая величина Wage для 5 категории International Reputation равно {MAX}.')"
   ]
  },
  {
   "cell_type": "code",
   "execution_count": 310,
   "id": "00225935",
   "metadata": {},
   "outputs": [
    {
     "name": "stdout",
     "output_type": "stream",
     "text": [
      "Межквартильное расстояние Value равно 9950.0.\n",
      "Максимально значимая величина Value равно 25425.0.\n",
      "Межквартильное расстояние Wage равно 21.0.\n",
      "Максимально значимая величина Wage равно 53.5.\n"
     ]
    }
   ],
   "source": [
    "IQR=df.Value.quantile(0.75)-df.Value.quantile(0.25)\n",
    "print(f'Межквартильное расстояние Value равно {IQR}.')\n",
    "MAX=df.Value.quantile(0.75)+1.5*IQR\n",
    "print(f'Максимально значимая величина Value равно {MAX}.')\n",
    "IQR=df.Wage.quantile(0.75)-df.Wage.quantile(0.25)\n",
    "print(f'Межквартильное расстояние Wage равно {IQR}.')\n",
    "MAX=df.Wage.quantile(0.75)+1.5*IQR\n",
    "print(f'Максимально значимая величина Wage равно {MAX}.')"
   ]
  },
  {
   "cell_type": "markdown",
   "id": "e7f1bb39",
   "metadata": {},
   "source": [
    "Видим, что если рассматривать значения обеих колонок для всего набора данных, то выбросы есть значительные, но если анализировать по категориям, то для 5 категории выбросов нет. Я считаю, так как разника по категориям значительная, пока удалять выбросы не буду."
   ]
  },
  {
   "cell_type": "markdown",
   "id": "44bc3c9e",
   "metadata": {},
   "source": [
    "***Задание 2.*** Найдите в датафрейме полные дубликаты и удалите их. Значения могут быть одинаковыми, но написаны по-разному. Например, может отличаться размер регистра (заглавные и строчные буквы). Особое внимание уделить колонке с названиями команд."
   ]
  },
  {
   "cell_type": "code",
   "execution_count": 311,
   "id": "3628bd0f",
   "metadata": {},
   "outputs": [
    {
     "data": {
      "text/plain": [
       "0"
      ]
     },
     "execution_count": 311,
     "metadata": {},
     "output_type": "execute_result"
    }
   ],
   "source": [
    "#количество полных дубликатов\n",
    "df.duplicated().sum()"
   ]
  },
  {
   "cell_type": "markdown",
   "id": "a4bfe56c",
   "metadata": {},
   "source": [
    "Пока их нет, возможно это связано с регистром. Переведем все колонки с типом данных object в нижний регистр и сравним до и после. Выведем на печать если есть разница в количествах."
   ]
  },
  {
   "cell_type": "code",
   "execution_count": 312,
   "id": "89817874",
   "metadata": {},
   "outputs": [
    {
     "name": "stdout",
     "output_type": "stream",
     "text": [
      "Club: в оригинале - (82,), в нижнем регистре (81,)\n"
     ]
    }
   ],
   "source": [
    "for col in df.columns:\n",
    "    if df[col].dtype=='object':\n",
    "        if df[col].unique().shape!=df[col].str.lower().unique().shape:\n",
    "            print(f'{col}: в оригинале - {df[col].unique().shape}, в нижнем регистре {df[col].str.lower().unique().shape}')"
   ]
  },
  {
   "cell_type": "code",
   "execution_count": 313,
   "id": "e7004683",
   "metadata": {},
   "outputs": [
    {
     "name": "stdout",
     "output_type": "stream",
     "text": [
      "Количество пар дубликатов 2\n"
     ]
    },
    {
     "data": {
      "text/html": [
       "<div>\n",
       "<style scoped>\n",
       "    .dataframe tbody tr th:only-of-type {\n",
       "        vertical-align: middle;\n",
       "    }\n",
       "\n",
       "    .dataframe tbody tr th {\n",
       "        vertical-align: top;\n",
       "    }\n",
       "\n",
       "    .dataframe thead th {\n",
       "        text-align: right;\n",
       "    }\n",
       "</style>\n",
       "<table border=\"1\" class=\"dataframe\">\n",
       "  <thead>\n",
       "    <tr style=\"text-align: right;\">\n",
       "      <th></th>\n",
       "      <th>ID</th>\n",
       "      <th>Name</th>\n",
       "      <th>Age</th>\n",
       "      <th>Nationality</th>\n",
       "      <th>Overall</th>\n",
       "      <th>Potential</th>\n",
       "      <th>Club</th>\n",
       "      <th>Value</th>\n",
       "      <th>Wage</th>\n",
       "      <th>Preferred Foot</th>\n",
       "      <th>International Reputation</th>\n",
       "      <th>Skill Moves</th>\n",
       "      <th>Position</th>\n",
       "      <th>Joined</th>\n",
       "      <th>Contract Valid Until</th>\n",
       "      <th>Height</th>\n",
       "      <th>Weight</th>\n",
       "      <th>Release Clause</th>\n",
       "    </tr>\n",
       "  </thead>\n",
       "  <tbody>\n",
       "    <tr>\n",
       "      <th>154</th>\n",
       "      <td>168651</td>\n",
       "      <td>I. Rakitić</td>\n",
       "      <td>30</td>\n",
       "      <td>Croatia</td>\n",
       "      <td>87</td>\n",
       "      <td>87</td>\n",
       "      <td>fc barcelona</td>\n",
       "      <td>46500.0</td>\n",
       "      <td>260</td>\n",
       "      <td>Right</td>\n",
       "      <td>4.0</td>\n",
       "      <td>3.0</td>\n",
       "      <td>RCM</td>\n",
       "      <td>2014</td>\n",
       "      <td>01/01/2021</td>\n",
       "      <td>6.000000</td>\n",
       "      <td>172.0</td>\n",
       "      <td>95300.0</td>\n",
       "    </tr>\n",
       "    <tr>\n",
       "      <th>304</th>\n",
       "      <td>181872</td>\n",
       "      <td>A. Vidal</td>\n",
       "      <td>31</td>\n",
       "      <td>Chile</td>\n",
       "      <td>85</td>\n",
       "      <td>85</td>\n",
       "      <td>fc barcelona</td>\n",
       "      <td>26000.0</td>\n",
       "      <td>205</td>\n",
       "      <td>Right</td>\n",
       "      <td>4.0</td>\n",
       "      <td>3.0</td>\n",
       "      <td>CAM</td>\n",
       "      <td>2018</td>\n",
       "      <td>01/01/2021</td>\n",
       "      <td>5.916667</td>\n",
       "      <td>165.0</td>\n",
       "      <td>53300.0</td>\n",
       "    </tr>\n",
       "  </tbody>\n",
       "</table>\n",
       "</div>"
      ],
      "text/plain": [
       "         ID        Name  Age Nationality  Overall  Potential          Club  \\\n",
       "154  168651  I. Rakitić   30     Croatia       87         87  fc barcelona   \n",
       "304  181872    A. Vidal   31       Chile       85         85  fc barcelona   \n",
       "\n",
       "       Value  Wage Preferred Foot International Reputation  Skill Moves  \\\n",
       "154  46500.0   260          Right                      4.0          3.0   \n",
       "304  26000.0   205          Right                      4.0          3.0   \n",
       "\n",
       "    Position  Joined Contract Valid Until    Height  Weight  Release Clause  \n",
       "154      RCM    2014           01/01/2021  6.000000   172.0         95300.0  \n",
       "304      CAM    2018           01/01/2021  5.916667   165.0         53300.0  "
      ]
     },
     "execution_count": 313,
     "metadata": {},
     "output_type": "execute_result"
    }
   ],
   "source": [
    "#переведем колонку Club в нижний регистр, и еще раз проверим дубликаты\n",
    "df.Club = df.Club.str.lower()\n",
    "print(f'Количество пар дубликатов {df.duplicated().sum()}')\n",
    "df[df.duplicated()]"
   ]
  },
  {
   "cell_type": "code",
   "execution_count": 314,
   "id": "e2fd9076",
   "metadata": {},
   "outputs": [
    {
     "data": {
      "text/plain": [
       "(2397, 18)"
      ]
     },
     "execution_count": 314,
     "metadata": {},
     "output_type": "execute_result"
    }
   ],
   "source": [
    "#Нашли две пары дубликатов, удалим их\n",
    "df=df.drop_duplicates(keep='first')\n",
    "df.shape"
   ]
  },
  {
   "cell_type": "markdown",
   "id": "14edfd54",
   "metadata": {},
   "source": [
    "***Задание 3.*** Напишите функцию, которая добавит колонку с разбиением возраста по группам: до 20, от 20 до 30, от 30 до\n",
    "36 и старше 36. Посчитайте количество футболистов в каждой категории."
   ]
  },
  {
   "cell_type": "code",
   "execution_count": 318,
   "id": "fe6ba55e",
   "metadata": {},
   "outputs": [
    {
     "data": {
      "text/html": [
       "<div>\n",
       "<style scoped>\n",
       "    .dataframe tbody tr th:only-of-type {\n",
       "        vertical-align: middle;\n",
       "    }\n",
       "\n",
       "    .dataframe tbody tr th {\n",
       "        vertical-align: top;\n",
       "    }\n",
       "\n",
       "    .dataframe thead th {\n",
       "        text-align: right;\n",
       "    }\n",
       "</style>\n",
       "<table border=\"1\" class=\"dataframe\">\n",
       "  <thead>\n",
       "    <tr style=\"text-align: right;\">\n",
       "      <th></th>\n",
       "      <th>ID</th>\n",
       "      <th>Name</th>\n",
       "      <th>Age</th>\n",
       "      <th>Nationality</th>\n",
       "      <th>Overall</th>\n",
       "      <th>Potential</th>\n",
       "      <th>Club</th>\n",
       "      <th>Value</th>\n",
       "      <th>Wage</th>\n",
       "      <th>Preferred Foot</th>\n",
       "      <th>International Reputation</th>\n",
       "      <th>Skill Moves</th>\n",
       "      <th>Position</th>\n",
       "      <th>Joined</th>\n",
       "      <th>Contract Valid Until</th>\n",
       "      <th>Height</th>\n",
       "      <th>Weight</th>\n",
       "      <th>Release Clause</th>\n",
       "      <th>Age_category</th>\n",
       "    </tr>\n",
       "  </thead>\n",
       "  <tbody>\n",
       "    <tr>\n",
       "      <th>0</th>\n",
       "      <td>1179</td>\n",
       "      <td>G. Buffon</td>\n",
       "      <td>40</td>\n",
       "      <td>Italy</td>\n",
       "      <td>88</td>\n",
       "      <td>88</td>\n",
       "      <td>paris saint-germain</td>\n",
       "      <td>4000.0</td>\n",
       "      <td>77</td>\n",
       "      <td>Right</td>\n",
       "      <td>4.0</td>\n",
       "      <td>1.0</td>\n",
       "      <td>GK</td>\n",
       "      <td>2018</td>\n",
       "      <td>01/01/2019</td>\n",
       "      <td>6.333333</td>\n",
       "      <td>203.0</td>\n",
       "      <td>7400.0</td>\n",
       "      <td>after 36 years</td>\n",
       "    </tr>\n",
       "    <tr>\n",
       "      <th>1</th>\n",
       "      <td>5479</td>\n",
       "      <td>Casillas</td>\n",
       "      <td>37</td>\n",
       "      <td>Spain</td>\n",
       "      <td>82</td>\n",
       "      <td>82</td>\n",
       "      <td>fc porto</td>\n",
       "      <td>1500.0</td>\n",
       "      <td>10</td>\n",
       "      <td>Left</td>\n",
       "      <td>4.0</td>\n",
       "      <td>1.0</td>\n",
       "      <td>indefined</td>\n",
       "      <td>2015</td>\n",
       "      <td>01/01/2019</td>\n",
       "      <td>6.083333</td>\n",
       "      <td>185.0</td>\n",
       "      <td>3000.0</td>\n",
       "      <td>after 36 years</td>\n",
       "    </tr>\n",
       "    <tr>\n",
       "      <th>2</th>\n",
       "      <td>8205</td>\n",
       "      <td>Braga</td>\n",
       "      <td>35</td>\n",
       "      <td>Portugal</td>\n",
       "      <td>70</td>\n",
       "      <td>70</td>\n",
       "      <td>cd aves</td>\n",
       "      <td>750.0</td>\n",
       "      <td>5</td>\n",
       "      <td>Right</td>\n",
       "      <td>1.0</td>\n",
       "      <td>3.0</td>\n",
       "      <td>LCM</td>\n",
       "      <td>2017</td>\n",
       "      <td>01/01/2019</td>\n",
       "      <td>5.916667</td>\n",
       "      <td>165.0</td>\n",
       "      <td>1600.0</td>\n",
       "      <td>30-36 years</td>\n",
       "    </tr>\n",
       "    <tr>\n",
       "      <th>3</th>\n",
       "      <td>9014</td>\n",
       "      <td>A. Robben</td>\n",
       "      <td>34</td>\n",
       "      <td>Netherlands</td>\n",
       "      <td>84</td>\n",
       "      <td>84</td>\n",
       "      <td>fc bayern münchen</td>\n",
       "      <td>15500.0</td>\n",
       "      <td>110</td>\n",
       "      <td>Left</td>\n",
       "      <td>4.0</td>\n",
       "      <td>4.0</td>\n",
       "      <td>RM</td>\n",
       "      <td>2009</td>\n",
       "      <td>01/01/2019</td>\n",
       "      <td>5.916667</td>\n",
       "      <td>176.0</td>\n",
       "      <td>25600.0</td>\n",
       "      <td>30-36 years</td>\n",
       "    </tr>\n",
       "    <tr>\n",
       "      <th>4</th>\n",
       "      <td>19521</td>\n",
       "      <td>J. Ibehre</td>\n",
       "      <td>35</td>\n",
       "      <td>England</td>\n",
       "      <td>61</td>\n",
       "      <td>61</td>\n",
       "      <td>cambridge united</td>\n",
       "      <td>120.0</td>\n",
       "      <td>2</td>\n",
       "      <td>Right</td>\n",
       "      <td>1.0</td>\n",
       "      <td>2.0</td>\n",
       "      <td>ST</td>\n",
       "      <td>2017</td>\n",
       "      <td>01/01/2019</td>\n",
       "      <td>6.333333</td>\n",
       "      <td>203.0</td>\n",
       "      <td>210.0</td>\n",
       "      <td>30-36 years</td>\n",
       "    </tr>\n",
       "  </tbody>\n",
       "</table>\n",
       "</div>"
      ],
      "text/plain": [
       "      ID       Name  Age  Nationality  Overall  Potential  \\\n",
       "0   1179  G. Buffon   40        Italy       88         88   \n",
       "1   5479   Casillas   37        Spain       82         82   \n",
       "2   8205      Braga   35     Portugal       70         70   \n",
       "3   9014  A. Robben   34  Netherlands       84         84   \n",
       "4  19521  J. Ibehre   35      England       61         61   \n",
       "\n",
       "                  Club    Value  Wage Preferred Foot International Reputation  \\\n",
       "0  paris saint-germain   4000.0    77          Right                      4.0   \n",
       "1             fc porto   1500.0    10           Left                      4.0   \n",
       "2              cd aves    750.0     5          Right                      1.0   \n",
       "3    fc bayern münchen  15500.0   110           Left                      4.0   \n",
       "4     cambridge united    120.0     2          Right                      1.0   \n",
       "\n",
       "   Skill Moves   Position  Joined Contract Valid Until    Height  Weight  \\\n",
       "0          1.0         GK    2018           01/01/2019  6.333333   203.0   \n",
       "1          1.0  indefined    2015           01/01/2019  6.083333   185.0   \n",
       "2          3.0        LCM    2017           01/01/2019  5.916667   165.0   \n",
       "3          4.0         RM    2009           01/01/2019  5.916667   176.0   \n",
       "4          2.0         ST    2017           01/01/2019  6.333333   203.0   \n",
       "\n",
       "   Release Clause    Age_category  \n",
       "0          7400.0  after 36 years  \n",
       "1          3000.0  after 36 years  \n",
       "2          1600.0     30-36 years  \n",
       "3         25600.0     30-36 years  \n",
       "4           210.0     30-36 years  "
      ]
     },
     "execution_count": 318,
     "metadata": {},
     "output_type": "execute_result"
    }
   ],
   "source": [
    "def categorize_age(Age):\n",
    "    if Age<20:\n",
    "        return 'before 20 years'\n",
    "    if 20<Age<30:\n",
    "        return '20-30 years'\n",
    "    if 30<Age<36:\n",
    "        return '30-36 years'\n",
    "    if Age>36:\n",
    "        return 'after 36 years'\n",
    "df['Age_category']=df.Age.apply(categorize_age)\n",
    "df.head()"
   ]
  },
  {
   "cell_type": "code",
   "execution_count": null,
   "id": "76083eac",
   "metadata": {},
   "outputs": [],
   "source": []
  }
 ],
 "metadata": {
  "kernelspec": {
   "display_name": "Python 3 (ipykernel)",
   "language": "python",
   "name": "python3"
  },
  "language_info": {
   "codemirror_mode": {
    "name": "ipython",
    "version": 3
   },
   "file_extension": ".py",
   "mimetype": "text/x-python",
   "name": "python",
   "nbconvert_exporter": "python",
   "pygments_lexer": "ipython3",
   "version": "3.10.9"
  }
 },
 "nbformat": 4,
 "nbformat_minor": 5
}
